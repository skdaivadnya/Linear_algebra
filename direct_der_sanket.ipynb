{
 "cells": [
  {
   "cell_type": "code",
   "execution_count": 1,
   "id": "54af82a8-4aaa-4492-a191-df02782f2607",
   "metadata": {},
   "outputs": [
    {
     "name": "stdin",
     "output_type": "stream",
     "text": [
      "enter the value for X 2\n",
      "enter the value for Y 2\n"
     ]
    },
    {
     "name": "stdout",
     "output_type": "stream",
     "text": [
      "the value of gradient of f(x,y) is : 1.6877079174649843\n"
     ]
    },
    {
     "name": "stdin",
     "output_type": "stream",
     "text": [
      "enter the components of unit vector u 2\n",
      "enter the components of unit vector u 3\n"
     ]
    },
    {
     "name": "stdout",
     "output_type": "stream",
     "text": [
      "[2, 3]\n",
      "the unit vector of u is : [0.5547002  0.83205029]\n",
      "the directional derivative in direction of vector u is :  [1.10940039 2.49615088]\n"
     ]
    }
   ],
   "source": [
    "import numpy as np\n",
    "import math\n",
    "import matplotlib.pyplot as plt\n",
    "from matplotlib import cm\n",
    "from matplotlib import interactive\n",
    "import seaborn as sns\n",
    "\n",
    "# THIS IS TO CALCULATE THE GRADIENT OF THE FUNCTION\n",
    "x = int(input(\"enter the value for X\"))\n",
    "y = int(input(\"enter the value for Y\"))\n",
    "\n",
    "#TO DEFINE THE FUNCTION\n",
    "def funct_XY(x, y):\n",
    "    return math.sin((x**2)+(y**2))\n",
    "\n",
    "# WE KNOW THE FORMULA FOR GRADIENT OF THE FUNCTION SIN(X^2+Y^2)\n",
    "\n",
    "res = math.cos((x**2 + y**2)+ x*2) + math.cos((x**2 + y**2)+ y*2) \n",
    "print (\"the value of gradient of f(x,y) is :\",res)\n",
    "\n",
    "\n",
    "# CREATING AN EMPTY LIST TO STORE VALUES\n",
    "vec = []\n",
    "  \n",
    "\n",
    "# ITERATION\n",
    "for i in range(0, 2):\n",
    "    ele = int(input(\"enter the components of unit vector u\"))\n",
    "  \n",
    "    vec.append(ele) \n",
    "      \n",
    "print(vec)\n",
    " \n",
    "# THIS IS TO CALCULATE THE UNIT VECTOR\n",
    "vec_ = vec/np.linalg.norm(vec)\n",
    "print (\"the unit vector of u is :\",vec_)\n",
    "\n",
    "#BY USING THE FORMULA FOR DIRECTIONAL DERIVATIVE USING THE VALUES OF GRADIENT AND UNIT VECTOR U\n",
    "res = vec*vec_\n",
    "print(\"the directional derivative in direction of vector u is : \",res)"
   ]
  },
  {
   "cell_type": "code",
   "execution_count": 2,
   "id": "fc526080-fd31-44cd-af84-f8d554028bdf",
   "metadata": {},
   "outputs": [
    {
     "data": {
      "text/plain": [
       "[<matplotlib.lines.Line2D at 0x7fd9aa8d72e0>]"
      ]
     },
     "execution_count": 2,
     "metadata": {},
     "output_type": "execute_result"
    },
    {
     "data": {
      "image/png": "[encoded data removed]",
      "text/plain": [
       "<Figure size 432x288 with 1 Axes>"
      ]
     },
     "metadata": {
      "needs_background": "light"
     },
     "output_type": "display_data"
    }
   ],
   "source": [
    "# to plot the unit vector\n",
    "plt.plot(vec)    \n",
    "a=[math.cos((x**2 + y**2)+ x*2),math.cos((x**2 + y**2)+ y*2)]\n",
    "# to plot the gradient \n",
    "plt.plot(a)   \n",
    "# to plot the directional derivative\n",
    "plt.plot(res)     \n",
    "\n",
    "\n"
   ]
  },
  {
   "cell_type": "code",
   "execution_count": null,
   "id": "39fd3e32-01a0-46e4-ae15-8a40260a8735",
   "metadata": {},
   "outputs": [],
   "source": []
  }
 ],
 "metadata": {
  "kernelspec": {
   "display_name": "Python 3",
   "language": "python",
   "name": "python3"
  },
  "language_info": {
   "codemirror_mode": {
    "name": "ipython",
    "version": 3
   },
   "file_extension": ".py",
   "mimetype": "text/x-python",
   "name": "python",
   "nbconvert_exporter": "python",
   "pygments_lexer": "ipython3",
   "version": "3.8.8"
  }
 },
 "nbformat": 4,
 "nbformat_minor": 5
}
